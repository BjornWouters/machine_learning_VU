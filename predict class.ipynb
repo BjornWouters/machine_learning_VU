{
 "cells": [
  {
   "cell_type": "code",
   "execution_count": 3,
   "metadata": {},
   "outputs": [
    {
     "name": "stdout",
     "output_type": "stream",
     "text": [
      "Bezig met fitten...\n",
      "Prediction:  [4, 1, 1, 2, 4, 2, 1, 1, 1, 7, 1, 4, 7, 7, 1, 1, 7, 4, 2, 7]\n",
      "Actual:  [2, 7, 7, 2, 2, 2, 7, 4, 1, 7, 1, 6, 6, 1, 1, 4, 5, 2, 7, 5]\n",
      "Correct percentage:  30.0\n",
      "76.8868009578272\n"
     ]
    }
   ],
   "source": [
    "import numpy as np\n",
    "import csv\n",
    "import pandas as pd\n",
    "import matplotlib.pyplot as plt\n",
    "import timeit\n",
    "import math\n",
    "from decimal import Decimal\n",
    "from sklearn.svm import SVC\n",
    "from sklearn import svm\n",
    "from sklearn.model_selection import train_test_split\n",
    "from sklearn.tree import DecisionTreeClassifier\n",
    "from sklearn.metrics import accuracy_score\n",
    "\n",
    "\n",
    "def train_test():\n",
    "    start = timeit.default_timer()\n",
    "    dataset =  pd.read_csv('C:/Users/Floris/Desktop/ML/output.csv')\n",
    "    dataset.describe()\n",
    "    dataset = dataset.fillna(0)\n",
    "    del dataset['Gene']\n",
    "    del dataset['Variation']\n",
    "    del dataset['most_common_word']\n",
    "    dataset_train, dataset_test = train_test_split(dataset,test_size = 0.25, random_state = 2)\n",
    "    \n",
    "    #Maakt de train en test kleiner voor kortere runtime\n",
    "    dataset_train = dataset_train[0:200]\n",
    "    dataset_test = dataset_test[0:100]\n",
    "    \n",
    "    clf = svm.SVC(kernel='linear', C=1.0)\n",
    "#     print(dataset_train)\n",
    "    columns = list(dataset.columns.values)\n",
    "    \n",
    "#     Predict met decision tree.   \n",
    "#     tree = DecisionTreeClassifier()\n",
    "#     tree.fit(dataset_train[columns[3:]], dataset_train.Class)\n",
    "#     print(columns[3:])\n",
    "#     print(accuracy_score(tree.predict(dataset_test[columns[3:]]), dataset_test.Class))\n",
    "\n",
    "    print(\"Bezig met fitten...\")\n",
    "    #columns 3 tot eind zijn alle kolommen die numeriek zijn exclusief Class.\n",
    "    clf.fit(dataset_train[columns[3:]],dataset_train.Class)\n",
    "    SVC(C=1.0, cache_size=200, class_weight=\"balanced\", coef0=0.0,\n",
    "    decision_function_shape='ovr', degree=5, gamma='auto', kernel='rbf',\n",
    "    max_iter=-1, probability=False, random_state=None, shrinking=True,\n",
    "    tol=0.001, verbose=False)\n",
    "    predictions = list(clf.predict(dataset_test[columns[3:]]))\n",
    "    actual = list(dataset_test.Class)\n",
    "    correct_amount = 0\n",
    "    \n",
    "    \n",
    "    print('Prediction: ',predictions)\n",
    "    print('Actual:     ',actual)\n",
    "    for x in range(len(predictions)):\n",
    "        if predictions[x] == actual[x]:\n",
    "            correct_amount += 1\n",
    "    print('Correct percentage: ',correct_amount*100/len(predictions))\n",
    "    \n",
    "    stop = timeit.default_timer()\n",
    "    print ('Time ran: ',round(stop - start,2), ' seconds')\n",
    "    \n",
    "\n",
    "\n",
    "train_test()    "
   ]
  },
  {
   "cell_type": "code",
   "execution_count": null,
   "metadata": {
    "collapsed": true
   },
   "outputs": [],
   "source": []
  },
  {
   "cell_type": "code",
   "execution_count": null,
   "metadata": {
    "collapsed": true
   },
   "outputs": [],
   "source": []
  },
  {
   "cell_type": "code",
   "execution_count": null,
   "metadata": {
    "collapsed": true
   },
   "outputs": [],
   "source": []
  },
  {
   "cell_type": "code",
   "execution_count": null,
   "metadata": {
    "collapsed": true
   },
   "outputs": [],
   "source": []
  },
  {
   "cell_type": "code",
   "execution_count": null,
   "metadata": {
    "collapsed": true
   },
   "outputs": [],
   "source": []
  }
 ],
 "metadata": {
  "kernelspec": {
   "display_name": "Python 3",
   "language": "python",
   "name": "python3"
  },
  "language_info": {
   "codemirror_mode": {
    "name": "ipython",
    "version": 3
   },
   "file_extension": ".py",
   "mimetype": "text/x-python",
   "name": "python",
   "nbconvert_exporter": "python",
   "pygments_lexer": "ipython3",
   "version": "3.6.3"
  }
 },
 "nbformat": 4,
 "nbformat_minor": 2
}
